{
 "cells": [
  {
   "cell_type": "code",
   "execution_count": 3,
   "metadata": {},
   "outputs": [],
   "source": [
    "from datetime import datetime, date\n",
    "import copy as cp\n",
    "import pandas as pd\n",
    "import numpy  as np\n",
    "import matplotlib.pyplot as plt\n",
    "import scipy.stats as stats\n",
    "\n",
    "from IPython.core.magic import register_cell_magic\n",
    "from IPython.display import HTML, display\n",
    "\n",
    "import statsmodels.formula.api as smf\n",
    "from statsmodels.gam.api import GLMGam, BSplines\n",
    "from statsmodels.gam.generalized_additive_model import LogitGam\n",
    "import statsmodels.api as sm\n",
    "\n",
    "from sklearn import preprocessing\n",
    "from sklearn.model_selection import train_test_split\n",
    "from sklearn.tree import DecisionTreeClassifier\n",
    "from sklearn import metrics\n",
    "from sklearn import tree\n",
    "from sklearn.metrics import roc_curve, auc, roc_auc_score\n",
    "from sklearn.metrics import RocCurveDisplay\n",
    "\n",
    "from pygam import LogisticGAM\n",
    "\n",
    "DATA_PATH = \"\"\n",
    "DATA_FN   = \"cc_transactions.csv\"\n",
    "TODAY = date.today()"
   ]
  },
  {
   "cell_type": "markdown",
   "metadata": {},
   "source": [
    "# Helper functions"
   ]
  },
  {
   "cell_type": "code",
   "execution_count": 2,
   "metadata": {
    "code_folding": []
   },
   "outputs": [],
   "source": [
    "def calc_age(birthday):\n",
    "    birthday = datetime.strptime(birthday, \"%Y-%m-%d\").date()\n",
    "    today = date.today()\n",
    "    return today.year - birthday.year - ((today.month, today.day) < (birthday.month, birthday.day))"
   ]
  },
  {
   "cell_type": "markdown",
   "metadata": {},
   "source": [
    "#  <span style=\"font-family: Palatino; font-size: 30px; color:purple\">The data </span>"
   ]
  },
  {
   "cell_type": "markdown",
   "metadata": {},
   "source": [
    "The data can be found in the file `cc_tranactions.csv`.  \n",
    "\n",
    "The dataset contains individual credit card transactions over a the period 01-01-2019 - 12-31-2021.  The transactions only represent a small subset of all users that we have sampled to keep the size of the dataset manageable.  The data dictionary is given below.\n",
    "\n",
    "The data set contains 1,997,859 observations of 26 variables per transaction."
   ]
  },
  {
   "cell_type": "markdown",
   "metadata": {},
   "source": [
    "## Data Dictionary"
   ]
  },
  {
   "cell_type": "markdown",
   "metadata": {},
   "source": [
    " | __variable__   | __Description__ |\n",
    " | :--            | -:-             |\n",
    " | ` ssn `        | Social Security number \n",
    " | ` cc_num `     | Credit card number \n",
    " | ` first `      | First name\n",
    " | ` last `       | Last name\n",
    " | ` gender `     | Gender\n",
    " | ` street `     | Street address\n",
    " | ` city `       | City of residence\n",
    " | ` state `      | State of residence\n",
    " | ` zip `        | Postal code of residence\n",
    " | ` lat `        | Latitude of residence\n",
    " | ` long `       | Longitude of residence\n",
    " | ` city_pop   ` | Population of city of residence\n",
    " | ` job `        | Job title\n",
    " | ` dob `        | Date of birth\n",
    " | ` acct_num `   | User acct number\n",
    " | ` profile `    | Demographic cluster\n",
    " | ` trans_num `  | Transaction number\n",
    " | ` trans_date ` | Transaction date\n",
    " | ` trans_time ` | Transaction time\n",
    " | ` unix_time `  | UNIX time of transaction\n",
    " | ` category `   | Type of product\n",
    " | ` amt `        | Transaction amt\n",
    " | ` is_fraud `   | Dummy indicating fraud (1) or no-fraud (0)\n",
    " | ` merchant `   | Name of merchant executing transaction\n",
    " | ` merch_lat `  | Latitude of merchant location\n",
    " | ` merch_long ` | Longitude of merchant location\n",
    " "
   ]
  },
  {
   "cell_type": "markdown",
   "metadata": {},
   "source": [
    "## Selected data summaries"
   ]
  },
  {
   "cell_type": "markdown",
   "metadata": {},
   "source": [
    "### `is_fraud`"
   ]
  },
  {
   "cell_type": "markdown",
   "metadata": {},
   "source": [
    "| __label__   | __count__ \n",
    "| :--   | :-- |    \n",
    "| 0  |  1,990,508\n",
    "| 1  |    7,351"
   ]
  },
  {
   "cell_type": "markdown",
   "metadata": {},
   "source": [
    "### `profile`"
   ]
  },
  {
   "cell_type": "markdown",
   "metadata": {},
   "source": [
    " | __label__   | __count__ \n",
    " | :--   | :-- |    \n",
    "adults_2550_female_rural |  19738\n",
    "adults_2550_female_urban | 573037\n",
    "adults_2550_male_rural |    21969\n",
    "adults_2550_male_urban |   497764\n",
    "adults_50up_female_rural |   8756\n",
    "adults_50up_female_urban | 299042\n",
    "adults_50up_male_rural |    20862\n",
    "adults_50up_male_urban |   303322\n",
    "young_adults_female_rural |  7686\n",
    "young_adults_female_urban    119580\n",
    "young_adults_male_rural |    6577\n",
    "young_adults_male_urban |  119526"
   ]
  },
  {
   "cell_type": "markdown",
   "metadata": {},
   "source": [
    "### `category`"
   ]
  },
  {
   "cell_type": "markdown",
   "metadata": {},
   "source": [
    " | __Label__   | __count__ \n",
    " | :--   | :-- |  \n",
    "entertainment | 145896\n",
    "food_dining |   150670\n",
    "gas_transport | 170316\n",
    "grocery_net |    86063\n",
    "grocery_pos |   187250\n",
    "health_fitness  |   124189\n",
    "home |       186835\n",
    "kids_pets |     174024\n",
    "misc_net |    90653\n",
    "misc_pos |   131483\n",
    "personal_care | 141152\n",
    "shopping_net |  146755\n",
    "shopping_pos |  198182\n",
    "travel |      64391"
   ]
  },
  {
   "cell_type": "markdown",
   "metadata": {},
   "source": [
    "## Load the data\n"
   ]
  },
  {
   "cell_type": "code",
   "execution_count": 4,
   "metadata": {
    "run_control": {
     "marked": true
    }
   },
   "outputs": [],
   "source": [
    "def read_data(file):\n",
    "    df = pd.read_csv(file, parse_dates=True)#, index_col='Date')\n",
    "    return df\n",
    "\n",
    "transaction_data = read_data(DATA_PATH + DATA_FN)"
   ]
  },
  {
   "cell_type": "markdown",
   "metadata": {},
   "source": [
    "# <span style=\"font-family: Palatino; font-size: 24px; color:purple\">Model building </span>"
   ]
  },
  {
   "cell_type": "markdown",
   "metadata": {},
   "source": [
    "## Preprocessing"
   ]
  },
  {
   "cell_type": "markdown",
   "metadata": {},
   "source": [
    "### For each record, calculate the age of the customer based on `dob` and the day of the week of the transaction."
   ]
  },
  {
   "cell_type": "code",
   "execution_count": 5,
   "metadata": {},
   "outputs": [],
   "source": [
    "birthday = pd.to_datetime(transaction_data['dob'])\n",
    "today = pd.to_datetime(transaction_data['trans_date'])\n",
    "transaction_data['age'] = today.dt.year - birthday.dt.year - (today.dt.month.lt(birthday.dt.month)) - (today.dt.month.eq(birthday.dt.month) & today.dt.day.lt(birthday.dt.day))\n"
   ]
  },
  {
   "cell_type": "markdown",
   "metadata": {},
   "source": [
    "### Perform any other preprocessing you think appropriate\n",
    "(Be sure to note whether you are \"peeking\" at the test data (see below)  in those cases, you may need to split the data _before_ doing some preprocessing steps.)"
   ]
  },
  {
   "cell_type": "code",
   "execution_count": 6,
   "metadata": {},
   "outputs": [],
   "source": [
    "transaction_data['log_age'] = np.log(transaction_data['age'])\n",
    "transaction_data['log_city_pop'] = np.log(transaction_data['city_pop'])\n",
    "transaction_data['dow'] = today.dt.dayofweek"
   ]
  },
  {
   "cell_type": "code",
   "execution_count": 7,
   "metadata": {},
   "outputs": [],
   "source": [
    "one_hot_encoded_data = pd.get_dummies(transaction_data, columns = ['gender','dow', 'profile', 'category'])"
   ]
  },
  {
   "cell_type": "markdown",
   "metadata": {},
   "source": [
    "\n",
    "### Split the data into training and test samples.  \n",
    "The test sample should include records with index 1,500,000 through end of the data."
   ]
  },
  {
   "cell_type": "code",
   "execution_count": 8,
   "metadata": {},
   "outputs": [],
   "source": [
    "X = transaction_data.copy()\n",
    "\n",
    "X_train = X[X.index < 1500000]\n",
    "X_test = X[~X.index.isin(X_train.index)]"
   ]
  },
  {
   "cell_type": "code",
   "execution_count": 9,
   "metadata": {},
   "outputs": [],
   "source": [
    "y = one_hot_encoded_data.loc[:,\"is_fraud\"]\n",
    "X2 = one_hot_encoded_data.iloc[:,[19,25,26]]\n",
    "X3 = one_hot_encoded_data.iloc[:,[19,25,26]+list(range(27,62))]\n",
    "\n",
    "X2_train = X2[X2.index < 1500000]\n",
    "X2_test = X2[~X2.index.isin(X2_train.index)]\n",
    "\n",
    "X3_train = X3[X3.index < 1500000]\n",
    "X3_test = X3[~X3.index.isin(X3_train.index)]\n",
    "\n",
    "y_train = y[X2_train.index]\n",
    "y_test = y[X2_test.index]\n",
    "y_test = pd.DataFrame(y_test)"
   ]
  },
  {
   "cell_type": "markdown",
   "metadata": {},
   "source": [
    "### Logit Model"
   ]
  },
  {
   "cell_type": "code",
   "execution_count": 10,
   "metadata": {},
   "outputs": [],
   "source": [
    "def estimator(df, fitting_algo):\n",
    "    # your code here  \n",
    "    my_formula = 'is_fraud ~ log_age + log_city_pop + dow'\n",
    "    model = fitting_algo(my_formula, data = df) \n",
    "    model = model.fit()\n",
    "    return(model)"
   ]
  },
  {
   "cell_type": "code",
   "execution_count": 11,
   "metadata": {},
   "outputs": [
    {
     "name": "stdout",
     "output_type": "stream",
     "text": [
      "Optimization terminated successfully.\n",
      "         Current function value: 0.022918\n",
      "         Iterations 10\n"
     ]
    },
    {
     "data": {
      "text/html": [
       "<div>\n",
       "<style scoped>\n",
       "    .dataframe tbody tr th:only-of-type {\n",
       "        vertical-align: middle;\n",
       "    }\n",
       "\n",
       "    .dataframe tbody tr th {\n",
       "        vertical-align: top;\n",
       "    }\n",
       "\n",
       "    .dataframe thead th {\n",
       "        text-align: right;\n",
       "    }\n",
       "</style>\n",
       "<table border=\"1\" class=\"dataframe\">\n",
       "  <thead>\n",
       "    <tr style=\"text-align: right;\">\n",
       "      <th></th>\n",
       "      <th>actual</th>\n",
       "      <th>predict</th>\n",
       "    </tr>\n",
       "  </thead>\n",
       "  <tbody>\n",
       "    <tr>\n",
       "      <th>1500000</th>\n",
       "      <td>0</td>\n",
       "      <td>0.004559</td>\n",
       "    </tr>\n",
       "    <tr>\n",
       "      <th>1500001</th>\n",
       "      <td>0</td>\n",
       "      <td>0.003747</td>\n",
       "    </tr>\n",
       "    <tr>\n",
       "      <th>1500002</th>\n",
       "      <td>0</td>\n",
       "      <td>0.003396</td>\n",
       "    </tr>\n",
       "    <tr>\n",
       "      <th>1500003</th>\n",
       "      <td>0</td>\n",
       "      <td>0.005029</td>\n",
       "    </tr>\n",
       "    <tr>\n",
       "      <th>1500004</th>\n",
       "      <td>0</td>\n",
       "      <td>0.003396</td>\n",
       "    </tr>\n",
       "  </tbody>\n",
       "</table>\n",
       "</div>"
      ],
      "text/plain": [
       "         actual   predict\n",
       "1500000       0  0.004559\n",
       "1500001       0  0.003747\n",
       "1500002       0  0.003396\n",
       "1500003       0  0.005029\n",
       "1500004       0  0.003396"
      ]
     },
     "execution_count": 11,
     "metadata": {},
     "output_type": "execute_result"
    }
   ],
   "source": [
    "def predictor(df_train, df_test, estimator, fitting_algo):\n",
    "    # your code here\n",
    "    model = estimator(df_train, fitting_algo)\n",
    "    predictions = model.predict(df_test[['log_age', 'log_city_pop', 'dow']])\n",
    "    return(predictions)\n",
    "\n",
    "predict = predictor(X_train, X_test, estimator, smf.logit)\n",
    "\n",
    "compare = pd.DataFrame({'actual': X_test['is_fraud'], 'predict' : predict})\n",
    "compare.head()"
   ]
  },
  {
   "cell_type": "code",
   "execution_count": 12,
   "metadata": {},
   "outputs": [
    {
     "name": "stdout",
     "output_type": "stream",
     "text": [
      "0.5881341944614373\n"
     ]
    },
    {
     "data": {
      "image/png": "[encoded data removed]",
      "text/plain": [
       "<Figure size 432x288 with 1 Axes>"
      ]
     },
     "metadata": {
      "needs_background": "light"
     },
     "output_type": "display_data"
    }
   ],
   "source": [
    "print(roc_auc_score(compare['actual'], compare['predict']))\n",
    "\n",
    "fpr, tpr, thresholds = roc_curve(compare['actual'], compare['predict'])\n",
    "display1 = RocCurveDisplay(fpr=fpr, tpr=tpr)\n",
    "display1.plot()\n",
    "plt.plot([0, 1], [0, 1], color=\"navy\", linestyle=\"--\")\n",
    "plt.xlim([0.0, 1.0])\n",
    "plt.ylim([0.0, 1.05])\n",
    "plt.xlabel(\"False Positive Rate\")\n",
    "plt.ylabel(\"True Positive Rate\")\n",
    "plt.title(\"Receiver operating characteristic example\")\n",
    "plt.show()"
   ]
  },
  {
   "cell_type": "markdown",
   "metadata": {},
   "source": [
    "### GAM (with logit link function) to predict `is_fraud`"
   ]
  },
  {
   "cell_type": "code",
   "execution_count": null,
   "metadata": {},
   "outputs": [],
   "source": [
    "# x_spline = X_train[['log_age', 'log_city_pop']]\n",
    "# bs = BSplines(x_spline, df=[10, 10], degree=[3, 3])\n",
    "# gam_bs = GLMGam.from_formula('is_fraud ~ dow', data=X_train, smoother=bs, link = LogitGam.link())\n",
    "# res_bs = gam_bs.fit()\n",
    "# print(res_bs.summary())"
   ]
  },
  {
   "cell_type": "code",
   "execution_count": 13,
   "metadata": {},
   "outputs": [
    {
     "name": "stderr",
     "output_type": "stream",
     "text": [
      "/Users/rohan/opt/anaconda3/lib/python3.8/site-packages/pygam/pygam.py:591: RuntimeWarning: overflow encountered in square\n",
      "  return sp.sparse.diags((self.link.gradient(mu, self.distribution)**2 *\n"
     ]
    },
    {
     "name": "stdout",
     "output_type": "stream",
     "text": [
      "LogisticGAM                                                                                               \n",
      "=============================================== ==========================================================\n",
      "Distribution:                      BinomialDist Effective DoF:                                     33.1045\n",
      "Link Function:                        LogitLink Log Likelihood:                                 -23569.407\n",
      "Number of Samples:                      1500000 AIC:                                            47205.0229\n",
      "                                                AICc:                                           47205.0245\n",
      "                                                UBRE:                                               2.0315\n",
      "                                                Scale:                                                 1.0\n",
      "                                                Pseudo R-Squared:                                   0.3188\n",
      "==========================================================================================================\n",
      "Feature Function                  Lambda               Rank         EDoF         P > x        Sig. Code   \n",
      "================================= ==================== ============ ============ ============ ============\n",
      "s(0)                              [0.6]                20           2.8          0.00e+00     ***         \n",
      "s(1)                              [0.6]                20           15.3         0.00e+00     ***         \n",
      "s(2)                              [0.6]                20           15.0         7.14e-10     ***         \n",
      "intercept                                              1            0.0          0.00e+00     ***         \n",
      "==========================================================================================================\n",
      "Significance codes:  0 '***' 0.001 '**' 0.01 '*' 0.05 '.' 0.1 ' ' 1\n",
      "\n",
      "WARNING: Fitting splines and a linear function to a feature introduces a model identifiability problem\n",
      "         which can cause p-values to appear significant when they are not.\n",
      "\n",
      "WARNING: p-values calculated in this manner behave correctly for un-penalized models or models with\n",
      "         known smoothing parameters, but when smoothing parameters have been estimated, the p-values\n",
      "         are typically lower than they should be, meaning that the tests reject the null too readily.\n"
     ]
    },
    {
     "name": "stderr",
     "output_type": "stream",
     "text": [
      "<ipython-input-13-d2cc9e67f30b>:2: UserWarning: KNOWN BUG: p-values computed in this summary are likely much smaller than they should be. \n",
      " \n",
      "Please do not make inferences based on these values! \n",
      "\n",
      "Collaborate on a solution, and stay up to date at: \n",
      "github.com/dswah/pyGAM/issues/163 \n",
      "\n",
      "  gam.summary()\n"
     ]
    }
   ],
   "source": [
    "gam = LogisticGAM().fit(X2_train, y_train)\n",
    "gam.summary()"
   ]
  },
  {
   "cell_type": "code",
   "execution_count": 14,
   "metadata": {},
   "outputs": [
    {
     "data": {
      "text/html": [
       "<div>\n",
       "<style scoped>\n",
       "    .dataframe tbody tr th:only-of-type {\n",
       "        vertical-align: middle;\n",
       "    }\n",
       "\n",
       "    .dataframe tbody tr th {\n",
       "        vertical-align: top;\n",
       "    }\n",
       "\n",
       "    .dataframe thead th {\n",
       "        text-align: right;\n",
       "    }\n",
       "</style>\n",
       "<table border=\"1\" class=\"dataframe\">\n",
       "  <thead>\n",
       "    <tr style=\"text-align: right;\">\n",
       "      <th></th>\n",
       "      <th>actual</th>\n",
       "      <th>predict</th>\n",
       "    </tr>\n",
       "  </thead>\n",
       "  <tbody>\n",
       "    <tr>\n",
       "      <th>1500000</th>\n",
       "      <td>0</td>\n",
       "      <td>0.001449</td>\n",
       "    </tr>\n",
       "    <tr>\n",
       "      <th>1500001</th>\n",
       "      <td>0</td>\n",
       "      <td>0.002038</td>\n",
       "    </tr>\n",
       "    <tr>\n",
       "      <th>1500002</th>\n",
       "      <td>0</td>\n",
       "      <td>0.045798</td>\n",
       "    </tr>\n",
       "    <tr>\n",
       "      <th>1500003</th>\n",
       "      <td>0</td>\n",
       "      <td>0.070150</td>\n",
       "    </tr>\n",
       "    <tr>\n",
       "      <th>1500004</th>\n",
       "      <td>0</td>\n",
       "      <td>0.001381</td>\n",
       "    </tr>\n",
       "  </tbody>\n",
       "</table>\n",
       "</div>"
      ],
      "text/plain": [
       "         actual   predict\n",
       "1500000       0  0.001449\n",
       "1500001       0  0.002038\n",
       "1500002       0  0.045798\n",
       "1500003       0  0.070150\n",
       "1500004       0  0.001381"
      ]
     },
     "execution_count": 14,
     "metadata": {},
     "output_type": "execute_result"
    }
   ],
   "source": [
    "predictions = gam.predict_proba(X2_test)\n",
    "compare2 = pd.DataFrame({'actual': y_test['is_fraud'], 'predict' : predictions})\n",
    "compare2.head()"
   ]
  },
  {
   "cell_type": "code",
   "execution_count": 15,
   "metadata": {},
   "outputs": [
    {
     "name": "stdout",
     "output_type": "stream",
     "text": [
      "0.8692402082644415\n"
     ]
    },
    {
     "data": {
      "image/png": "[encoded data removed]",
      "text/plain": [
       "<Figure size 432x288 with 1 Axes>"
      ]
     },
     "metadata": {
      "needs_background": "light"
     },
     "output_type": "display_data"
    }
   ],
   "source": [
    "print(roc_auc_score(compare2['actual'], compare2['predict']))\n",
    "\n",
    "fpr, tpr, thresholds = roc_curve(compare2['actual'], compare2['predict'])\n",
    "display1 = RocCurveDisplay(fpr=fpr, tpr=tpr)\n",
    "display1.plot()\n",
    "plt.plot([0, 1], [0, 1], color=\"navy\", linestyle=\"--\")\n",
    "plt.xlim([0.0, 1.0])\n",
    "plt.ylim([0.0, 1.05])\n",
    "plt.xlabel(\"False Positive Rate\")\n",
    "plt.ylabel(\"True Positive Rate\")\n",
    "plt.title(\"Receiver operating characteristic example\")\n",
    "plt.show()"
   ]
  },
  {
   "cell_type": "markdown",
   "metadata": {},
   "source": [
    "## Tree model to predict `is_fraud`"
   ]
  },
  {
   "cell_type": "code",
   "execution_count": 16,
   "metadata": {},
   "outputs": [
    {
     "data": {
      "text/html": [
       "<div>\n",
       "<style scoped>\n",
       "    .dataframe tbody tr th:only-of-type {\n",
       "        vertical-align: middle;\n",
       "    }\n",
       "\n",
       "    .dataframe tbody tr th {\n",
       "        vertical-align: top;\n",
       "    }\n",
       "\n",
       "    .dataframe thead th {\n",
       "        text-align: right;\n",
       "    }\n",
       "</style>\n",
       "<table border=\"1\" class=\"dataframe\">\n",
       "  <thead>\n",
       "    <tr style=\"text-align: right;\">\n",
       "      <th></th>\n",
       "      <th>actual</th>\n",
       "      <th>predict</th>\n",
       "    </tr>\n",
       "  </thead>\n",
       "  <tbody>\n",
       "    <tr>\n",
       "      <th>1500000</th>\n",
       "      <td>0</td>\n",
       "      <td>0.001954</td>\n",
       "    </tr>\n",
       "    <tr>\n",
       "      <th>1500001</th>\n",
       "      <td>0</td>\n",
       "      <td>0.000012</td>\n",
       "    </tr>\n",
       "    <tr>\n",
       "      <th>1500002</th>\n",
       "      <td>0</td>\n",
       "      <td>0.010319</td>\n",
       "    </tr>\n",
       "    <tr>\n",
       "      <th>1500003</th>\n",
       "      <td>0</td>\n",
       "      <td>0.024165</td>\n",
       "    </tr>\n",
       "    <tr>\n",
       "      <th>1500004</th>\n",
       "      <td>0</td>\n",
       "      <td>0.000238</td>\n",
       "    </tr>\n",
       "  </tbody>\n",
       "</table>\n",
       "</div>"
      ],
      "text/plain": [
       "         actual   predict\n",
       "1500000       0  0.001954\n",
       "1500001       0  0.000012\n",
       "1500002       0  0.010319\n",
       "1500003       0  0.024165\n",
       "1500004       0  0.000238"
      ]
     },
     "execution_count": 16,
     "metadata": {},
     "output_type": "execute_result"
    }
   ],
   "source": [
    "dtc = DecisionTreeClassifier(max_depth=8).fit(X3_train,y_train)\n",
    "predictions = dtc.predict_proba(X3_test)\n",
    "compare3 = pd.DataFrame({'actual': y_test['is_fraud'], 'predict' : predictions[:,1]})\n",
    "compare3.head()"
   ]
  },
  {
   "cell_type": "code",
   "execution_count": 17,
   "metadata": {},
   "outputs": [
    {
     "name": "stdout",
     "output_type": "stream",
     "text": [
      "0.9682343578583132\n"
     ]
    },
    {
     "data": {
      "image/png": "[encoded data removed]",
      "text/plain": [
       "<Figure size 432x288 with 1 Axes>"
      ]
     },
     "metadata": {
      "needs_background": "light"
     },
     "output_type": "display_data"
    }
   ],
   "source": [
    "print(roc_auc_score(compare3['actual'], compare3['predict']))\n",
    "\n",
    "fpr, tpr, thresholds = roc_curve(compare3['actual'], compare3['predict'])\n",
    "display1 = RocCurveDisplay(fpr=fpr, tpr=tpr)\n",
    "display1.plot()\n",
    "plt.plot([0, 1], [0, 1], color=\"navy\", linestyle=\"--\")\n",
    "plt.xlim([0.0, 1.0])\n",
    "plt.ylim([0.0, 1.05])\n",
    "plt.xlabel(\"False Positive Rate\")\n",
    "plt.ylabel(\"True Positive Rate\")\n",
    "plt.title(\"Receiver operating characteristic example\")\n",
    "plt.show()"
   ]
  }
 ],
 "metadata": {
  "kernelspec": {
   "display_name": "Python 3",
   "language": "python",
   "name": "python3"
  },
  "language_info": {
   "codemirror_mode": {
    "name": "ipython",
    "version": 3
   },
   "file_extension": ".py",
   "mimetype": "text/x-python",
   "name": "python",
   "nbconvert_exporter": "python",
   "pygments_lexer": "ipython3",
   "version": "3.8.8"
  },
  "latex_envs": {
   "LaTeX_envs_menu_present": true,
   "autoclose": false,
   "autocomplete": true,
   "bibliofile": "biblio.bib",
   "cite_by": "apalike",
   "current_citInitial": 1,
   "eqLabelWithNumbers": true,
   "eqNumInitial": 1,
   "hotkeys": {
    "equation": "Ctrl-E",
    "itemize": "Ctrl-I"
   },
   "labels_anchors": false,
   "latex_user_defs": false,
   "report_style_numbering": false,
   "user_envs_cfg": false
  },
  "toc": {
   "base_numbering": 1,
   "nav_menu": {},
   "number_sections": true,
   "sideBar": true,
   "skip_h1_title": false,
   "title_cell": "Table of Contents",
   "title_sidebar": "Contents",
   "toc_cell": false,
   "toc_position": {},
   "toc_section_display": true,
   "toc_window_display": false
  },
  "varInspector": {
   "cols": {
    "lenName": 16,
    "lenType": 16,
    "lenVar": 40
   },
   "kernels_config": {
    "python": {
     "delete_cmd_postfix": "",
     "delete_cmd_prefix": "del ",
     "library": "var_list.py",
     "varRefreshCmd": "print(var_dic_list())"
    },
    "r": {
     "delete_cmd_postfix": ") ",
     "delete_cmd_prefix": "rm(",
     "library": "var_list.r",
     "varRefreshCmd": "cat(var_dic_list()) "
    }
   },
   "types_to_exclude": [
    "module",
    "function",
    "builtin_function_or_method",
    "instance",
    "_Feature"
   ],
   "window_display": false
  }
 },
 "nbformat": 4,
 "nbformat_minor": 2
}
